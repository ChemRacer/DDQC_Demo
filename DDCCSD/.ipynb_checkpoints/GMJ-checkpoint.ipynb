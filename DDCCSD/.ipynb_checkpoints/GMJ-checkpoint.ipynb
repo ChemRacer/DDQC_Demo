{
 "cells": [
  {
   "cell_type": "code",
   "execution_count": 1,
   "id": "2a0aa2f6",
   "metadata": {},
   "outputs": [],
   "source": [
    "import pickle5 as pickle\n",
    "from sklearn.preprocessing import MinMaxScaler\n",
    "from sklearn.neighbors import KNeighborsRegressor\n",
    "import matplotlib.pyplot as plt\n",
    "import numpy as np"
   ]
  },
  {
   "cell_type": "code",
   "execution_count": 2,
   "id": "fb2973c7",
   "metadata": {},
   "outputs": [],
   "source": [
    "with open('X_train.pickle', 'rb') as handle:\n",
    "    X_train = pickle.load(handle)\n",
    "    \n",
    "with open('y_train.pickle', 'rb') as handle:\n",
    "    y_train = pickle.load(handle)    "
   ]
  },
  {
   "cell_type": "code",
   "execution_count": 3,
   "id": "c4259acb",
   "metadata": {},
   "outputs": [
    {
     "data": {
      "text/plain": [
       "array([[  0.20328655,  -3.22060354,   1.74879466, ...,  -0.80998765,\n",
       "         -0.88467541,  -0.88467541],\n",
       "       [  0.27035762,  -2.9422332 ,   1.63958421, ...,  -0.80998765,\n",
       "        -13.64428434,  -0.88467541],\n",
       "       [  0.89013874,  -4.26849895,   2.68442731, ...,  -0.80998765,\n",
       "        -14.91178221,  -0.88467541],\n",
       "       ...,\n",
       "       [  2.95187123,  -3.77041734,   3.49937848, ...,  -1.60813786,\n",
       "        -15.02545674,  -1.7629122 ],\n",
       "       [  2.96020227,  -3.71741116,   3.4465317 , ...,  -1.60813786,\n",
       "        -14.28707462,  -1.7629122 ],\n",
       "       [  2.9629762 ,  -3.74253187,   3.4935679 , ...,  -1.60813786,\n",
       "         -1.7629122 ,  -1.7629122 ]])"
      ]
     },
     "execution_count": 3,
     "metadata": {},
     "output_type": "execute_result"
    }
   ],
   "source": [
    "X_train"
   ]
  },
  {
   "cell_type": "markdown",
   "id": "b10f6d3f",
   "metadata": {},
   "source": [
    "Key:\n",
    "Letters:\n",
    "- E-Energy of the orbital\n",
    "- H-1e contribution to the orbital energy\n",
    "- J-Coulombic contribution to orbital energy\n",
    "- K-Exchange contribution to orbital energy\n",
    "\n",
    "Placement:\n",
    "occ or virt\n",
    "Number: is it electron one or two from the two electron excitation\n",
    "\n",
    "\n",
    "- Jia1- coulomb integral between orbital occ1 and vir1\n",
    "- Jia2 \" but 2\n",
    "- Kia1 - exchange integral between orbital \n",
    "- Kia2 Same but exchange integral\n",
    "- diag - is it on the diagonal, aka, are the two excited electrons going to the same orbital **this is important fyi\n",
    "- orbdiff - (Evir2 + Evir1 - Eocc1 - Eocc2)\n",
    "- doublecheck - full 2electron integral\n",
    "- t2start - INITIAL MP2 amplitude **this is the inital guess\n",
    "- t2mag - np.log10(np.absolute(t2start)) ~ this is going to be a common trend, since it is more straightforward for ML algorithms to understand\n",
    "- t2sign - (t2start > 1)? \n",
    "- Jia1mag - np.log10(np.absolute(feature))\n",
    "- Jia2mag np.log10(np.absolute(feature))\n",
    "- Kia1mag  np.log10(np.absolute(feature))\n",
    "- Kia2mag np.log10(np.absolute(feature))\n"
   ]
  },
  {
   "cell_type": "code",
   "execution_count": 4,
   "id": "f8257cb1",
   "metadata": {},
   "outputs": [],
   "source": [
    "features = ['Evir1', 'Hvir1', 'Jvir1', 'Kvir1', 'Evir2', 'Hvir2', 'Jvir2', 'Kvir2', 'Eocc1', 'Jocc1', 'Kocc1', 'Hocc1','Eocc2', 'Jocc2', 'Kocc2', 'Hocc2', 'Jia1', 'Jia2', 'Kia1', 'Kia2', 'diag', 'orbdiff', 'doublecheck', 't2start', 't2mag', 't2sign', 'Jia1mag', 'Jia2mag', 'Kia1mag', 'Kia2mag']\n",
    "\n",
    "\n",
    "factors=(1,1.25,1.5,2,5,10,100,1000)\n",
    "\n",
    "factor= np.zeros((len(features)))\n",
    "finalfactor=factor\n",
    "factor[2]=3\n",
    "factor[6]=3\n",
    "factor[12]=4\n",
    "factor[8]=4\n",
    "factor[16]=1\n",
    "factor[17]=1\n",
    "factor[20]=5\n",
    "factor[21]=5\n",
    "factor[22]=6\n",
    "factor[23]=6\n",
    "factor[24]=5\n",
    "factor[25]=1\n",
    "factor=factor.astype(int)\n",
    "\n",
    "for j in range(0,len(features)):\n",
    "    a=factor[j]\n",
    "    finalfactor[j]=factors[a]\n"
   ]
  },
  {
   "cell_type": "code",
   "execution_count": 6,
   "id": "19361645",
   "metadata": {},
   "outputs": [],
   "source": [
    "# Scale all data before using them as features\n",
    "\n",
    "scaler = MinMaxScaler().fit(X_train)\n",
    "X_train_scaled = scaler.transform(X_train)\n",
    "\n",
    "# This multiplies by the weighting vector from the start\n",
    "for a in range(0,len(features)):\n",
    "    X_train_scaled[:,a] *= finalfactor[a]\n",
    "\n",
    "# This trains the model with our data    \n",
    "knn=KNeighborsRegressor(n_neighbors=1, p=2).fit(X_train_scaled,y_train)"
   ]
  },
  {
   "cell_type": "code",
   "execution_count": null,
   "id": "7b4696be",
   "metadata": {},
   "outputs": [],
   "source": [
    "knn.score(X_train_scaled,y_train)"
   ]
  },
  {
   "cell_type": "code",
   "execution_count": null,
   "id": "807cd994",
   "metadata": {},
   "outputs": [],
   "source": []
  }
 ],
 "metadata": {
  "kernelspec": {
   "display_name": "voglab",
   "language": "python",
   "name": "voglab"
  },
  "language_info": {
   "codemirror_mode": {
    "name": "ipython",
    "version": 3
   },
   "file_extension": ".py",
   "mimetype": "text/x-python",
   "name": "python",
   "nbconvert_exporter": "python",
   "pygments_lexer": "ipython3",
   "version": "3.8.1"
  }
 },
 "nbformat": 4,
 "nbformat_minor": 5
}
