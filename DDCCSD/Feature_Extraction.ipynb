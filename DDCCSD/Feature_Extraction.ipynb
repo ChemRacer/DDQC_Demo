{
 "cells": [
  {
   "cell_type": "code",
   "execution_count": null,
   "metadata": {},
   "outputs": [],
   "source": [
    "import psi4\n",
    "import numpy as np\n",
    "from helper_CC_ML_old import *\n",
    "import os\n",
    "import pandas as pd\n",
    "MLt2=0"
   ]
  },
  {
   "cell_type": "code",
   "execution_count": null,
   "metadata": {},
   "outputs": [],
   "source": []
  },
  {
   "cell_type": "code",
   "execution_count": null,
   "metadata": {},
   "outputs": [],
   "source": [
    "#This box contains all the features the CCSD module logs for us to make predictions\n",
    "#Ultimately, just make sure you run this every time and all is well.\n",
    "\n",
    "features = ['Evir1', 'Hvir1', 'Jvir1', 'Kvir1', 'Evir2', 'Hvir2', 'Jvir2', 'Kvir2', 'Eocc1', 'Jocc1', 'Kocc1', 'Hocc1',\n",
    "            'Eocc2', 'Jocc2', 'Kocc2', 'Hocc2', 'Jia1', 'Jia2', 'Kia1', 'Kia2', 'diag', 'orbdiff', 'doublecheck', 't2start', 't2mag', 't2sign', 'Jia1mag', 'Jia2mag', 'Kia1mag', 'Kia2mag']\n",
    "'''\n",
    "Key:\n",
    "Letters:\n",
    "E-Energy of the orbital\n",
    "H-1e contribution to the orbital energy\n",
    "J-Coulombic contribution to orbital energy\n",
    "K-Exchange contribution to orbital energy\n",
    "Placement:\n",
    "occ or virt, you get this..\n",
    "Number:\n",
    "is it electron one or two from the two electron excitation\n",
    "\n",
    "\n",
    "Jia1- coulomb integral between orbital occ1 and vir1\n",
    "Jia2 \" but 2\n",
    "Kia1 - exchange integral between orbital \n",
    "Kia2 Same but exchange integral\n",
    "diag - is it on the diagonal, aka, are the two excited electrons going to the same orbital **this is important fyi\n",
    "orbdiff - (Evir2 + Evir1 - Eocc1 - Eocc2)\n",
    "doublecheck - full 2electron integral\n",
    "t2start - INITIAL MP2 amplitude **this is the inital guess\n",
    "t2mag - np.log10(np.absolute(t2start)) ~ this is going to be a common trend, since it is more straightforward for ML algorithms to understand\n",
    "t2sign - (t2start > 1)? \n",
    "Jia1mag - np.log10(np.absolute(feature))\n",
    "Jia2mag np.log10(np.absolute(feature))\n",
    "Kia1mag  np.log10(np.absolute(feature))\n",
    "Kia2mag np.log10(np.absolute(feature))\n",
    "\n",
    "'''\n",
    "\n",
    "#numbah=18\n",
    "#print (steps[numbah,:])\n",
    "#print (features[numbah])\n",
    "factors=(1,1.25,1.5,2,5,10,100,1000)\n",
    "#Evir1\n",
    "factor= np.zeros((len(features)))\n",
    "finalfactor=factor\n",
    "factor[2]=3\n",
    "factor[6]=3\n",
    "factor[12]=4\n",
    "factor[8]=4\n",
    "factor[16]=1\n",
    "factor[17]=1\n",
    "factor[20]=5\n",
    "factor[21]=5\n",
    "factor[22]=6\n",
    "factor[23]=6\n",
    "factor[24]=5\n",
    "factor[25]=1\n",
    "factor=factor.astype(int)\n",
    "#print (feature[8])\n",
    "for j in range(0,len(features)):\n",
    "    a=factor[j]\n",
    "    finalfactor[j]=factors[a]\n"
   ]
  },
  {
   "cell_type": "code",
   "execution_count": null,
   "metadata": {},
   "outputs": [],
   "source": []
  },
  {
   "cell_type": "code",
   "execution_count": null,
   "metadata": {},
   "outputs": [],
   "source": [
    "#This function will extract all the features and CCSD t2 amplitudes from a file with xyz or z-matrix of a molecule\n",
    "\n",
    "def GetFeatures(File_path, occ=False, vir=False):\n",
    "    i=1\n",
    "    Features_file = open('Molecule_features.csv', 'w+')\n",
    "    Features_file.write('Evir1, Hvir1, Jvir1, Kvir1, Evir2, Hvir2, Jvir2, Kvir2, Eocc1, Jocc1, Kocc1, Hocc1, Eocc2, Jocc2, Kocc2, Hocc2, Jia1, Jia2, Kia1, Kia2, diag, orbdiff, doublecheck, t2start, t2mag, t2sign, Jia1mag, Jia2mag, Kia1mag, Kia2mag, CCSD-t2\\n')\n",
    "    text = open(File_path, 'r').read()\n",
    "    mol = psi4.geometry(text)\n",
    "    \n",
    "    psi4.core.clean()\n",
    "    psi4.set_options({'basis':        'cc-pVDZ',\n",
    "                      'scf_type':     'pk',\n",
    "                      'reference':    'rhf',\n",
    "                      'mp2_type':     'conv',\n",
    "                      'e_convergence': 1e-8,\n",
    "                      'd_convergence': 1e-8})\n",
    "        \n",
    "    A=HelperCCEnergy(mol)\n",
    "\n",
    "    A.compute_energy()\n",
    "    matrixsize=A.nocc*A.nocc*A.nvirt*A.nvirt\n",
    "    Bigmatrix=np.zeros([matrixsize, len(features)])\n",
    "    for x in range(0,len(features)):\n",
    "        Bigmatrix[:, x]=getattr(A, features[x]).reshape(matrixsize)\n",
    "    Bigamp=A.t2.reshape(matrixsize,1)\n",
    "    if i==1:\n",
    "        Bigfeatures=Bigmatrix\n",
    "        Bigamps=Bigamp\n",
    "        i=2\n",
    "    else:\n",
    "        Bigfeatures=np.vstack((Bigfeatures,Bigmatrix))\n",
    "        Bigamps=np.vstack((Bigamps,Bigamp))\n",
    "    \n",
    "# Load data to the .csv file    \n",
    "    for amp in range(0, Bigfeatures.shape[0]):\n",
    "        for feature in range(0, Bigfeatures.shape[1]):\n",
    "            Features_file.write(F'{Bigfeatures[amp][feature]},')\n",
    "        Features_file.write(F'{Bigamps[amp][0]}\\n')\n",
    "    \n",
    "    Features_file.close()"
   ]
  },
  {
   "cell_type": "code",
   "execution_count": null,
   "metadata": {},
   "outputs": [],
   "source": []
  },
  {
   "cell_type": "code",
   "execution_count": null,
   "metadata": {
    "scrolled": true
   },
   "outputs": [],
   "source": [
    "# Extracting features and amplitudes from Water_example.dat file\n",
    "#If the molecule file is in another location use the path to the file\n",
    "\n",
    "GetFeatures('Water/Regular/Water5/Water1.xyz')"
   ]
  },
  {
   "cell_type": "code",
   "execution_count": null,
   "metadata": {},
   "outputs": [],
   "source": []
  }
 ],
 "metadata": {
  "kernelspec": {
   "display_name": "Python 3 (ipykernel)",
   "language": "python",
   "name": "python3"
  },
  "language_info": {
   "codemirror_mode": {
    "name": "ipython",
    "version": 3
   },
   "file_extension": ".py",
   "mimetype": "text/x-python",
   "name": "python",
   "nbconvert_exporter": "python",
   "pygments_lexer": "ipython3",
   "version": "3.8.10"
  }
 },
 "nbformat": 4,
 "nbformat_minor": 2
}
