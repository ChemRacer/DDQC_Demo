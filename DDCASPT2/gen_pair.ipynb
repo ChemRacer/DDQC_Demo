{
 "cells": [
  {
   "cell_type": "markdown",
   "metadata": {},
   "source": [
    "# Import packages\n",
    "## Required python3 modules:\n",
    "- matplotlib\n",
    "- numpy as np\n",
    "- pandas\n",
    "- seaborn\n",
    "- os\n",
    "- pickle\n",
    "- sklearn\n",
    "- mpl_toolkits\n",
    "\n",
    "If you are missing any of these packages I would recommend using the following lines in your juypter notebook:\n",
    "```\n",
    "import sys\n",
    "!{sys.executable} -m pip install missing_package_name\n",
    "```"
   ]
  },
  {
   "cell_type": "code",
   "execution_count": 1,
   "metadata": {},
   "outputs": [
    {
     "name": "stderr",
     "output_type": "stream",
     "text": [
      "/var/folders/mx/f74jvlpj38n6rr6k7c9p_l480000gn/T/ipykernel_88812/297096767.py:4: MatplotlibDeprecationWarning: \n",
      "The mpl_toolkits.axes_grid module was deprecated in Matplotlib 2.1 and will be removed two minor releases later. Use mpl_toolkits.axes_grid1 and mpl_toolkits.axisartist, which provide the same functionality instead.\n",
      "  from mpl_toolkits.axes_grid.inset_locator import (inset_axes, InsetPosition,mark_inset)\n"
     ]
    }
   ],
   "source": [
    "# Visualization packages\n",
    "import matplotlib.pyplot as plt\n",
    "import seaborn as sns; sns.set(style=\"ticks\", color_codes=True)\n",
    "from mpl_toolkits.axes_grid.inset_locator import (inset_axes, InsetPosition,mark_inset)\n",
    "\n",
    "# Misc. packages\n",
    "import numpy as np\n",
    "import pandas as pd\n",
    "import os\n",
    "import pickle5 as pickle\n",
    "\n",
    "\n",
    "\n",
    "# Regressor\n",
    "from sklearn.ensemble import RandomForestRegressor\n",
    "# Preprocessing\n",
    "from sklearn.preprocessing import MinMaxScaler\n",
    "from sklearn.model_selection import train_test_split\n",
    "# Metrics\n",
    "from sklearn.metrics import mean_absolute_error\n",
    "from sklearn.metrics import mean_squared_error\n",
    "from sklearn.metrics import r2_score\n",
    "\n"
   ]
  },
  {
   "cell_type": "markdown",
   "metadata": {},
   "source": [
    "# Files required to run gen_pair.ipynb:\n",
    "- The angles (106-180 degrees): keys.pickle\n",
    "- The regression targets Y (pair energies): targets.pickle\n",
    "- The feature set, X: feats.pickle\n",
    "- True CASSCF energies: casscf.csv\n",
    "- True CASPT2 energies: caspt2.csv\n",
    "- The true correlation energies (E2): E2.csv"
   ]
  },
  {
   "cell_type": "code",
   "execution_count": 2,
   "metadata": {},
   "outputs": [
    {
     "name": "stdout",
     "output_type": "stream",
     "text": [
      "Number of data points in potential energy curve: 121\n"
     ]
    }
   ],
   "source": [
    "\n",
    "# X=pd.read_pickle('feats.pickle')\n",
    "# Y=pd.read_pickle('targets.pickle')\n",
    "\n",
    "with open('feats.pickle', 'rb') as handle:\n",
    "    X = pickle.load(handle)\n",
    "\n",
    "with open('targets.pickle', 'rb') as handle:\n",
    "    Y = pickle.load(handle)\n",
    "\n",
    "\n",
    "with open('keys.pickle', 'rb') as handle:\n",
    "    keys = pickle.load(handle)\n",
    "\n",
    "\n",
    "\n",
    "\n",
    "angles=np.arange(106,181,1)\n",
    "l=keys\n",
    "l=[i for i in l if float(i)>=110.0 and float(i)<=170.0]\n",
    "print(f'Number of data points in potential energy curve: {len(l)}')\n"
   ]
  },
  {
   "cell_type": "code",
   "execution_count": 3,
   "metadata": {},
   "outputs": [],
   "source": [
    "# Split the data 70% train/30% test\n",
    "train_ind,test_ind=train_test_split(l, test_size=0.3, random_state=0)\n",
    "num_train=[int(i) for i in np.linspace(10,len(train_ind),19)]\n",
    "\n",
    "\n",
    "X_train=X.loc[train_ind].to_numpy()\n",
    "X_test=X.loc[test_ind].to_numpy()\n",
    "\n",
    "y_train=Y[train_ind].T.stack().to_numpy()\n",
    "y_test=Y[test_ind].T.stack().to_numpy()\n",
    "\n"
   ]
  },
  {
   "cell_type": "code",
   "execution_count": 4,
   "metadata": {},
   "outputs": [],
   "source": [
    "caspt2=pd.read_csv('caspt2.csv',index_col='Label').drop(columns='Unnamed: 0')\n",
    "casscf=pd.read_csv('casscf.csv',index_col='Label').drop(columns='Unnamed: 0').loc[map(float,test_ind)].rename(columns={'SCF':0})\n",
    "E1Dict=pd.read_csv(\"E2.csv\").rename(columns={'Unnamed: 0':'Label'}).set_index('Label')"
   ]
  },
  {
   "cell_type": "code",
   "execution_count": 5,
   "metadata": {},
   "outputs": [
    {
     "data": {
      "text/plain": [
       "[10, 14, 18, 22, 26, 30, 34, 38, 42, 47, 51, 55, 59, 63, 67, 71, 75, 79, 84]"
      ]
     },
     "execution_count": 5,
     "metadata": {},
     "output_type": "execute_result"
    }
   ],
   "source": [
    "# Values across the learning curve \n",
    "num_train"
   ]
  },
  {
   "cell_type": "code",
   "execution_count": 6,
   "metadata": {},
   "outputs": [
    {
     "name": "stdout",
     "output_type": "stream",
     "text": [
      "Number of features: 38\n"
     ]
    }
   ],
   "source": [
    "print(f'Number of features: {X_train.shape[1]}')"
   ]
  },
  {
   "cell_type": "code",
   "execution_count": 7,
   "metadata": {},
   "outputs": [
    {
     "name": "stdout",
     "output_type": "stream",
     "text": [
      "Number of molecules in the training set: 84 \n",
      " Number of molecules in the training set: 37\n"
     ]
    }
   ],
   "source": [
    "print(f'Number of molecules in the training set: {len(train_ind)} \\n Number of molecules in the training set: {len(test_ind)}')"
   ]
  },
  {
   "cell_type": "code",
   "execution_count": 8,
   "metadata": {},
   "outputs": [
    {
     "name": "stdout",
     "output_type": "stream",
     "text": [
      "Number of pair energies in the training set: 7896 \n",
      " Number of pair energies in the training set: 3478\n"
     ]
    }
   ],
   "source": [
    "print(f'Number of pair energies in the training set: {len(y_train)} \\n Number of pair energies in the training set: {len(y_test)}')"
   ]
  },
  {
   "cell_type": "markdown",
   "metadata": {},
   "source": [
    "# First Evaluation Metric\n",
    "Features are scaled and then a random forest regressor is trained to predict pair energies. 70% of the data for training and 30% for testing."
   ]
  },
  {
   "cell_type": "code",
   "execution_count": 9,
   "metadata": {},
   "outputs": [],
   "source": [
    "\n",
    "scaler = MinMaxScaler().fit(X_train)\n",
    "X_train_scaled = scaler.transform(X_train)\n",
    "X_test_scaled = scaler.transform(X_test)\n",
    "regr = RandomForestRegressor(max_depth=1000,max_features='sqrt',bootstrap=True,oob_score=True,n_estimators=700,random_state =69,n_jobs=-1).fit(X_train_scaled, y_train)\n",
    "y_train_pred=regr.predict(X_train_scaled)\n",
    "y_test_pred=regr.predict(X_test_scaled)"
   ]
  },
  {
   "cell_type": "code",
   "execution_count": 10,
   "metadata": {},
   "outputs": [
    {
     "data": {
      "image/png": "[encoded data removed]",
      "text/plain": [
       "<Figure size 720x360 with 2 Axes>"
      ]
     },
     "metadata": {},
     "output_type": "display_data"
    }
   ],
   "source": [
    "plt.figure(figsize=(10,5))\n",
    "plt.subplot(1, 2, 1)\n",
    "fill=np.linspace(min(y_test)-1e-2,max(y_test)+1e-2,20)\n",
    "plt.plot(fill,fill,color='black',alpha=0.75)\n",
    "plt.fill_between(fill,fill-0.0016,fill+0.0016,color='gray', alpha=0.3)\n",
    "plt.fill_between(fill,fill-0.003665,fill+0.003665,color='darkgray', alpha=0.3)\n",
    "\n",
    "plt.scatter(y_train,y_train_pred,alpha=1,marker='.')\n",
    "plt.xticks(np.round(np.linspace(min(y_train), max(y_train), 4),4),rotation=0)\n",
    "plt.text(min(y_train), max(y_train)-5e-3, f'R$^{2}$: {r2_score(y_train,y_train_pred):0.3f}',fontsize=12,bbox=dict(facecolor='white', alpha=1.0))\n",
    "plt.xlim(min(y_train)-1e-3, max(y_train)+1e-3)\n",
    "plt.ylim(min(y_train)-1e-3, max(y_train)+1e-3)\n",
    "plt.xlabel('True pair-energies (E$_{h}$)',fontsize=12)\n",
    "plt.ylabel('Predicted pair-energies (E$_{h}$)',fontsize=12)\n",
    "plt.title('O$_{3}$ (4,3) VDZP 1D Train Set',fontsize=12)\n",
    "plt.subplot(1, 2, 2)\n",
    "fill=np.linspace(min(y_test)-1e-2,max(y_test)+1e-2,20)\n",
    "plt.plot(fill,fill,color='black',alpha=0.75)\n",
    "plt.fill_between(fill,fill-0.0016,fill+0.0016,color='gray', alpha=0.3)\n",
    "plt.fill_between(fill,fill-0.003665,fill+0.003665,color='darkgray', alpha=0.3)\n",
    "plt.scatter(y_test,y_test_pred,alpha=1,marker='.',color='orange')\n",
    "plt.xticks(np.round(np.linspace(min(y_test), max(y_test), 4),4),rotation=0)\n",
    "plt.text(min(y_test), max(y_test)-5e-3, f'R$^{2}$: {r2_score(y_test,y_test_pred):0.3f}',fontsize=12,bbox=dict(facecolor='white', alpha=1.0))\n",
    "plt.xlim(min(y_test)-1e-3, max(y_test)+1e-3)\n",
    "plt.ylim(min(y_test)-1e-3, max(y_test)+1e-3)\n",
    "plt.xlabel('True pair-energies (E$_{h}$)',fontsize=12)\n",
    "plt.ylabel('Predicted pair-energies (E$_{h}$)',fontsize=12)\n",
    "plt.title('O$_{3}$ (4,3) VDZP 1D Test Set',fontsize=12)\n",
    "\n",
    "plt.tight_layout()\n",
    "plt.show()"
   ]
  },
  {
   "cell_type": "markdown",
   "metadata": {},
   "source": [
    "# Test set on the potential energy curve\n",
    "\n",
    "The pair energies ($\\varepsilon_{pq}$) predicted from the test set can then be summed into correlation energies ($E_{2}$):\n",
    "\n",
    "$$ E_{2}=\\sum_{pq} \\varepsilon_{pq}$$"
   ]
  },
  {
   "cell_type": "code",
   "execution_count": 11,
   "metadata": {},
   "outputs": [],
   "source": [
    "pred_train_E2=np.sum(y_train_pred.reshape(len(train_ind),-1),axis=1)\n",
    "train_E2=np.sum(y_train.reshape(len(train_ind),-1),axis=1)\n",
    "pred_test_E2=np.sum(y_test_pred.reshape(len(test_ind),-1),axis=1)\n",
    "test_E2=np.sum(y_test.reshape(len(test_ind),-1),axis=1)"
   ]
  },
  {
   "cell_type": "code",
   "execution_count": 12,
   "metadata": {},
   "outputs": [],
   "source": [
    "df_PredE2=pd.DataFrame(pred_test_E2,index=map(float,test_ind))"
   ]
  },
  {
   "cell_type": "code",
   "execution_count": 13,
   "metadata": {},
   "outputs": [
    {
     "data": {
      "image/png": "[encoded data removed]",
      "text/plain": [
       "<Figure size 432x288 with 1 Axes>"
      ]
     },
     "metadata": {},
     "output_type": "display_data"
    }
   ],
   "source": [
    "plt.plot(caspt2-caspt2.max().values,label='CASPT2')\n",
    "plt.scatter(list(map(float,test_ind)),casscf.add(df_PredE2,fill_value=0)-caspt2.max().values,label='DDCASPT2',color='red')\n",
    "plt.legend()\n",
    "plt.title(r'O$_{3}$ Potential Energy Curve',fontsize=14)\n",
    "plt.ylabel('Energy (E$_{h}$)',fontsize=14)\n",
    "plt.xlabel('Bond Degrees ($^{\\circ}$)',fontsize=14)\n",
    "plt.tight_layout()\n",
    "plt.show()"
   ]
  },
  {
   "cell_type": "markdown",
   "metadata": {},
   "source": [
    "# Second Evaluation Metric\n",
    "Learning curves are used to evaluate the effectiveness of our model with respect to the total correlation energies. The amount of test data is held the same as training set is systematically increased."
   ]
  },
  {
   "cell_type": "code",
   "execution_count": null,
   "metadata": {},
   "outputs": [
    {
     "name": "stdout",
     "output_type": "stream",
     "text": [
      "Number of Train 10\n",
      "Number of test 37\n",
      "(940, 38)\n",
      "<bound method BaseEstimator.get_params of RandomForestRegressor(max_depth=1000, max_features='sqrt', n_estimators=700,\n",
      "                      n_jobs=-1, oob_score=True, random_state=69)>\n",
      "pair energies (e₂) test R²: 0.8185\n",
      "pair energies (e₂) train R²: 0.9730\n",
      "Test E₂ MAE: 6.9676E-03 Eₕ\n",
      "Test E₂ RMSE: 8.1116E-03 Eₕ \n",
      "\n",
      "Test E₂ MAE: 4.3722E+00 kcal/mol\n",
      "Test E₂ RMSE: 5.0900E+00 kcal/mol \n",
      "\n",
      "Train E₂ MAE: 3.3458E-03 Eₕ\n",
      "Train E₂ RMSE: 3.8520E-03 Eₕ \n",
      "\n",
      "Train E₂ MAE: 2.0995E+00 kcal/mol\n",
      "Train E₂ RMSE: 2.4171E+00 kcal/mol \n",
      "\n",
      "Number of Train 14\n",
      "Number of test 37\n",
      "(1316, 38)\n",
      "<bound method BaseEstimator.get_params of RandomForestRegressor(max_depth=1000, max_features='sqrt', n_estimators=700,\n",
      "                      n_jobs=-1, oob_score=True, random_state=69)>\n",
      "pair energies (e₂) test R²: 0.9016\n",
      "pair energies (e₂) train R²: 0.9844\n",
      "Test E₂ MAE: 5.8383E-03 Eₕ\n",
      "Test E₂ RMSE: 6.7942E-03 Eₕ \n",
      "\n",
      "Test E₂ MAE: 3.6635E+00 kcal/mol\n",
      "Test E₂ RMSE: 4.2634E+00 kcal/mol \n",
      "\n",
      "Train E₂ MAE: 2.0860E-03 Eₕ\n",
      "Train E₂ RMSE: 2.3861E-03 Eₕ \n",
      "\n",
      "Train E₂ MAE: 1.3090E+00 kcal/mol\n",
      "Train E₂ RMSE: 1.4973E+00 kcal/mol \n",
      "\n",
      "Number of Train 18\n",
      "Number of test 37\n",
      "(1692, 38)\n",
      "<bound method BaseEstimator.get_params of RandomForestRegressor(max_depth=1000, max_features='sqrt', n_estimators=700,\n",
      "                      n_jobs=-1, oob_score=True, random_state=69)>\n",
      "pair energies (e₂) test R²: 0.9375\n",
      "pair energies (e₂) train R²: 0.9862\n",
      "Test E₂ MAE: 6.1265E-03 Eₕ\n",
      "Test E₂ RMSE: 7.2789E-03 Eₕ \n",
      "\n",
      "Test E₂ MAE: 3.8443E+00 kcal/mol\n",
      "Test E₂ RMSE: 4.5675E+00 kcal/mol \n",
      "\n",
      "Train E₂ MAE: 2.2944E-03 Eₕ\n",
      "Train E₂ RMSE: 2.8578E-03 Eₕ \n",
      "\n",
      "Train E₂ MAE: 1.4398E+00 kcal/mol\n",
      "Train E₂ RMSE: 1.7933E+00 kcal/mol \n",
      "\n",
      "Number of Train 22\n",
      "Number of test 37\n",
      "(2068, 38)\n",
      "<bound method BaseEstimator.get_params of RandomForestRegressor(max_depth=1000, max_features='sqrt', n_estimators=700,\n",
      "                      n_jobs=-1, oob_score=True, random_state=69)>\n",
      "pair energies (e₂) test R²: 0.9624\n",
      "pair energies (e₂) train R²: 0.9919\n",
      "Test E₂ MAE: 4.6775E-03 Eₕ\n",
      "Test E₂ RMSE: 6.2754E-03 Eₕ \n",
      "\n",
      "Test E₂ MAE: 2.9351E+00 kcal/mol\n",
      "Test E₂ RMSE: 3.9378E+00 kcal/mol \n",
      "\n",
      "Train E₂ MAE: 1.9073E-03 Eₕ\n",
      "Train E₂ RMSE: 2.3536E-03 Eₕ \n",
      "\n",
      "Train E₂ MAE: 1.1969E+00 kcal/mol\n",
      "Train E₂ RMSE: 1.4769E+00 kcal/mol \n",
      "\n",
      "Number of Train 26\n",
      "Number of test 37\n",
      "(2444, 38)\n",
      "<bound method BaseEstimator.get_params of RandomForestRegressor(max_depth=1000, max_features='sqrt', n_estimators=700,\n",
      "                      n_jobs=-1, oob_score=True, random_state=69)>\n",
      "pair energies (e₂) test R²: 0.9654\n",
      "pair energies (e₂) train R²: 0.9938\n",
      "Test E₂ MAE: 3.7977E-03 Eₕ\n",
      "Test E₂ RMSE: 5.0023E-03 Eₕ \n",
      "\n",
      "Test E₂ MAE: 2.3831E+00 kcal/mol\n",
      "Test E₂ RMSE: 3.1390E+00 kcal/mol \n",
      "\n",
      "Train E₂ MAE: 1.4531E-03 Eₕ\n",
      "Train E₂ RMSE: 1.9451E-03 Eₕ \n",
      "\n",
      "Train E₂ MAE: 9.1182E-01 kcal/mol\n",
      "Train E₂ RMSE: 1.2206E+00 kcal/mol \n",
      "\n",
      "Number of Train 30\n",
      "Number of test 37\n",
      "(2820, 38)\n",
      "<bound method BaseEstimator.get_params of RandomForestRegressor(max_depth=1000, max_features='sqrt', n_estimators=700,\n",
      "                      n_jobs=-1, oob_score=True, random_state=69)>\n",
      "pair energies (e₂) test R²: 0.9855\n",
      "pair energies (e₂) train R²: 0.9953\n",
      "Test E₂ MAE: 3.1956E-03 Eₕ\n",
      "Test E₂ RMSE: 4.3804E-03 Eₕ \n",
      "\n",
      "Test E₂ MAE: 2.0052E+00 kcal/mol\n",
      "Test E₂ RMSE: 2.7487E+00 kcal/mol \n",
      "\n",
      "Train E₂ MAE: 1.4920E-03 Eₕ\n",
      "Train E₂ RMSE: 1.9930E-03 Eₕ \n",
      "\n",
      "Train E₂ MAE: 9.3623E-01 kcal/mol\n",
      "Train E₂ RMSE: 1.2506E+00 kcal/mol \n",
      "\n",
      "Number of Train 34\n",
      "Number of test 37\n",
      "(3196, 38)\n",
      "<bound method BaseEstimator.get_params of RandomForestRegressor(max_depth=1000, max_features='sqrt', n_estimators=700,\n",
      "                      n_jobs=-1, oob_score=True, random_state=69)>\n",
      "pair energies (e₂) test R²: 0.9888\n",
      "pair energies (e₂) train R²: 0.9961\n",
      "Test E₂ MAE: 2.9389E-03 Eₕ\n",
      "Test E₂ RMSE: 3.9786E-03 Eₕ \n",
      "\n",
      "Test E₂ MAE: 1.8441E+00 kcal/mol\n",
      "Test E₂ RMSE: 2.4966E+00 kcal/mol \n",
      "\n",
      "Train E₂ MAE: 1.2374E-03 Eₕ\n",
      "Train E₂ RMSE: 1.4656E-03 Eₕ \n",
      "\n",
      "Train E₂ MAE: 7.7649E-01 kcal/mol\n",
      "Train E₂ RMSE: 9.1965E-01 kcal/mol \n",
      "\n",
      "Number of Train 38\n",
      "Number of test 37\n",
      "(3572, 38)\n",
      "<bound method BaseEstimator.get_params of RandomForestRegressor(max_depth=1000, max_features='sqrt', n_estimators=700,\n",
      "                      n_jobs=-1, oob_score=True, random_state=69)>\n",
      "pair energies (e₂) test R²: 0.9906\n",
      "pair energies (e₂) train R²: 0.9968\n",
      "Test E₂ MAE: 2.3821E-03 Eₕ\n",
      "Test E₂ RMSE: 3.0578E-03 Eₕ \n",
      "\n",
      "Test E₂ MAE: 1.4948E+00 kcal/mol\n",
      "Test E₂ RMSE: 1.9188E+00 kcal/mol \n",
      "\n",
      "Train E₂ MAE: 1.0347E-03 Eₕ\n",
      "Train E₂ RMSE: 1.2699E-03 Eₕ \n",
      "\n",
      "Train E₂ MAE: 6.4926E-01 kcal/mol\n",
      "Train E₂ RMSE: 7.9684E-01 kcal/mol \n",
      "\n",
      "Number of Train 42\n",
      "Number of test 37\n",
      "(3948, 38)\n"
     ]
    }
   ],
   "source": [
    "# Create the dataset\n",
    "rng = np.random.default_rng(42)\n",
    "# factor_dict=pd.read_excel('factor_dict.xlsx')\n",
    "R2=[]\n",
    "MAE=[]\n",
    "RMSE=[]\n",
    "kcalMAE=[]\n",
    "kcalRMSE=[]\n",
    "Train_R2=[]\n",
    "Train_MAE=[]\n",
    "Train_RMSE=[]\n",
    "Train_kcalMAE=[]\n",
    "Train_kcalRMSE=[]\n",
    "Num_Test=[]\n",
    "Num_Train=[]\n",
    "for k in num_train:\n",
    "    TestE2_list=[]\n",
    "    PredE2_list=[]\n",
    "    Train_E2_list=[]\n",
    "    Train_PredE2_list=[]\n",
    "    testsubs_list=[]\n",
    "    trainsubs_list=[]\n",
    "\n",
    "\n",
    "    print(f'Number of Train {k}')\n",
    "#         trainsubs=random.sample(train_ind, k)\n",
    "    trainsubs=train_ind[0:k]\n",
    "    testsubs=test_ind\n",
    "    Num_Test.append(len(testsubs))\n",
    "    Num_Train.append(k)\n",
    "    print(f'Number of test {len(testsubs)}')\n",
    "#         for typ in ['A','B','C','D','E','F','G','H']:\n",
    "    \n",
    "    y=Y\n",
    "    X_test_stacked=X.loc[testsubs].to_numpy()\n",
    "    X_train_stacked=X.loc[trainsubs].to_numpy()\n",
    "    y_test_stacked=y[testsubs].T.stack().to_numpy()\n",
    "    y_train_stacked=y[trainsubs].T.stack().to_numpy()\n",
    "\n",
    "\n",
    "    test_labels=testsubs\n",
    "    train_labels=trainsubs\n",
    "    scaler = MinMaxScaler().fit(X_train_stacked)\n",
    "    X_train_scaled = scaler.transform(X_train_stacked)\n",
    "    X_test_scaled = scaler.transform(X_test_stacked)\n",
    "    print(X_train_scaled.shape)\n",
    "#     reg8=KNeighborsRegressor(n_neighbors=int(np.log(len(y[trainsubs[0]]))),leaf_size=1,n_jobs=-1,p=1).fit(X_train_scaled,y_train_stacked)    \n",
    "    reg8=regr.fit(X_train_scaled,y_train_stacked)\n",
    "#     reg8=RandomForestRegressor(max_features='sqrt',bootstrap=True,oob_score=True,n_estimators=700,random_state =69,n_jobs=-1).fit(X_train_scaled, y_train_stacked)\n",
    "    \n",
    "    print(reg8.get_params)\n",
    "    y_test_trimpred=reg8.predict(X_test_scaled)\n",
    "    y_train_trimpred=reg8.predict(X_train_scaled)\n",
    "\n",
    "\n",
    "    print('pair energies (e\\u2082) test R\\u00b2: %.4f' %r2_score(y_test_stacked,y_test_trimpred))\n",
    "    print('pair energies (e\\u2082) train R\\u00b2: %.4f' %r2_score(y_train_stacked,y_train_trimpred))  \n",
    "    PredE2=np.sum(y_test_trimpred.reshape(len(testsubs),-1),axis=1)\n",
    "    TestE2=np.sum(y_test_stacked.reshape(len(testsubs),-1),axis=1)\n",
    "    Train_PredE2=np.sum(y_train_trimpred.reshape(len(trainsubs),-1),axis=1)\n",
    "    Train_E2=np.sum(y_train_stacked.reshape(len(trainsubs),-1),axis=1)\n",
    "    TestE2_list.append(TestE2)\n",
    "    PredE2_list.append(PredE2)\n",
    "    Train_E2_list.append(Train_E2)\n",
    "    Train_PredE2_list.append(Train_PredE2)\n",
    "    testsubs_list.append(testsubs)\n",
    "    trainsubs_list.append(trainsubs)\n",
    "    \n",
    "\n",
    "    R2.append(r2_score(TestE2,PredE2))\n",
    "    MAE.append(mean_absolute_error(TestE2,PredE2))\n",
    "    RMSE.append(np.sqrt(mean_squared_error(TestE2,PredE2)))\n",
    "    kcalMAE.append(627.5*mean_absolute_error(TestE2,PredE2))\n",
    "    kcalRMSE.append(627.5*np.sqrt(mean_squared_error(TestE2,PredE2)))\n",
    "\n",
    "    Train_R2.append(r2_score(Train_E2,Train_PredE2))\n",
    "    Train_MAE.append(mean_absolute_error(Train_E2,Train_PredE2))\n",
    "    Train_RMSE.append(np.sqrt(mean_squared_error(Train_E2,Train_PredE2)))\n",
    "    Train_kcalMAE.append(627.5*mean_absolute_error(Train_E2,Train_PredE2))\n",
    "    Train_kcalRMSE.append(627.5*np.sqrt(mean_squared_error(Train_E2,Train_PredE2)))\n",
    "\n",
    "    print('Test E\\u2082 MAE: %.4E' % mean_absolute_error(TestE2,PredE2), 'E\\u2095')\n",
    "    print('Test E\\u2082 RMSE: %.4E' % np.sqrt(mean_squared_error(TestE2,PredE2)), 'E\\u2095','\\n')\n",
    "    print('Test E\\u2082 MAE: %.4E' % ((mean_absolute_error(TestE2,PredE2))*627.5), 'kcal/mol')\n",
    "    print('Test E\\u2082 RMSE: %.4E' % (np.sqrt(mean_squared_error(TestE2,PredE2))*627.5), 'kcal/mol','\\n')\n",
    "\n",
    "    print('Train E\\u2082 MAE: %.4E' % mean_absolute_error(Train_E2,Train_PredE2), 'E\\u2095')\n",
    "    print('Train E\\u2082 RMSE: %.4E' % np.sqrt(mean_squared_error(Train_E2,Train_PredE2)), 'E\\u2095','\\n')\n",
    "    print('Train E\\u2082 MAE: %.4E' % ((mean_absolute_error(Train_E2,Train_PredE2))*627.5), 'kcal/mol')\n",
    "    print('Train E\\u2082 RMSE: %.4E' % (np.sqrt(mean_squared_error(Train_E2,Train_PredE2))*627.5), 'kcal/mol','\\n')\n",
    "    \n",
    "#     pd.DataFrame({'TestE2':TestE2,'testsubs':testsubs,'PredE2':PredE2}).to_excel(f'big_scaled_super_4_3_VDZP_Test_Energies.xlsx')\n",
    "#     pd.DataFrame({'Num_Test':Num_Test,'Num_Train':Num_Train,'Test_R2':R2,'Test_MAE (kcal/mol)':kcalMAE,'Test_RMSE (kcal/mol)':kcalRMSE,'Test_MAE (Eh)':MAE,'Test_RMSE (Eh)':RMSE,'Train_R2':Train_R2,'Train_MAE':Train_MAE,'Train_RMSE':Train_RMSE,'Train_kcalMAE':Train_kcalMAE,'Train_kcalRMSE':Train_kcalRMSE}).sort_values('Num_Train').to_excel(f'big_scaled_super_4_3_VDZP_Learning_Curve_1D.xlsx')\n",
    "\n",
    "\n",
    "\n"
   ]
  },
  {
   "cell_type": "code",
   "execution_count": null,
   "metadata": {},
   "outputs": [],
   "source": [
    "\n",
    "df = pd.DataFrame({'Num_Test':Num_Test,'Num_Train':Num_Train,'Test_R2':R2,'Test_MAE (kcal/mol)':kcalMAE,'Test_RMSE (kcal/mol)':kcalRMSE,'Test_MAE (Eh)':MAE,'Test_RMSE (Eh)':RMSE,'Train_R2':Train_R2,'Train_MAE':Train_MAE,'Train_RMSE':Train_RMSE,'Train_kcalMAE':Train_kcalMAE,'Train_kcalRMSE':Train_kcalRMSE}).sort_values('Num_Train')\n",
    "test=pd.DataFrame({'TestE2':TestE2,'testsubs':testsubs,'PredE2':PredE2}).set_index('testsubs')\n",
    "\n",
    "      \n",
    "# df = pd.read_excel(f'big_scaled_super_4_3_VDZP_Learning_Curve_1D.xlsx',engine='openpyxl')\n",
    "# test=pd.read_excel('big_scaled_super_4_3_VDZP_Test_Energies.xlsx',engine='openpyxl').set_index('testsubs').drop(columns='Unnamed: 0')\n",
    "VDZP_perc_train=[float(f'{i*100:0.0f}') for i in list(df['Num_Train']/df['Num_Train'].iloc[-1])]\n",
    "VDZP_test_R2=df['Test_R2']\n",
    "VDZP_Train_R2=df['Train_R2']\n",
    "VDZP_Test_MAE=df['Test_MAE (kcal/mol)']\n",
    "VDZP_Test_RMSE=df['Test_RMSE (kcal/mol)']\n",
    "VDZP_train_MAE=df['Train_kcalMAE']\n",
    "VDZP_train_RMSE=df['Train_kcalRMSE']\n",
    "\n",
    "plt.plot(VDZP_perc_train,VDZP_Test_MAE,color='b',label=f'Test 1D VDZP MAE',marker='x')\n",
    "plt.plot(VDZP_perc_train,VDZP_Test_RMSE,color='b',label=f'Test 1D VDZP RMSE',marker='+')\n",
    "plt.plot(VDZP_perc_train,VDZP_train_MAE,color='orange',label=f'Train 1D VDZP MAE',marker='x')\n",
    "plt.plot(VDZP_perc_train,VDZP_train_RMSE,color='orange',label=f'Train 1D VDZP RMSE',marker='+')\n",
    "\n",
    "\n",
    "plt.title(r'O$_{3}$ 1D (4,3) VDZP Learning Curve',fontsize=14)\n",
    "plt.xlabel(r'Training Molecules (%)',fontsize=14)\n",
    "plt.ylabel(r'Error (kcal/mol)',fontsize=14)\n",
    "plt.xlim(0,103)\n",
    "plt.ylim(0,5)\n",
    "plt.fill_between(np.arange(-1,105),0, 1,color='gray', alpha=0.3)\n",
    "plt.fill_between(np.arange(-1,105),1, 2.3,color='darkgray', alpha=0.3)\n",
    "\n",
    "plt.legend(loc=1)\n",
    "plt.tight_layout()\n",
    "plt.show()\n",
    "\n",
    "\n",
    "\n"
   ]
  },
  {
   "cell_type": "code",
   "execution_count": null,
   "metadata": {},
   "outputs": [],
   "source": []
  }
 ],
 "metadata": {
  "kernelspec": {
   "display_name": "voglab",
   "language": "python",
   "name": "voglab"
  },
  "language_info": {
   "codemirror_mode": {
    "name": "ipython",
    "version": 3
   },
   "file_extension": ".py",
   "mimetype": "text/x-python",
   "name": "python",
   "nbconvert_exporter": "python",
   "pygments_lexer": "ipython3",
   "version": "3.8.1"
  }
 },
 "nbformat": 4,
 "nbformat_minor": 4
}
